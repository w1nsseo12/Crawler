{
 "cells": [
  {
   "cell_type": "code",
   "execution_count": 1,
   "id": "6a5f0617",
   "metadata": {},
   "outputs": [],
   "source": [
    "import requests\n",
    "import sqlite3\n",
    "import json\n",
    "from bs4 import BeautifulSoup\n",
    "from urllib.parse import urljoin"
   ]
  },
  {
   "cell_type": "code",
   "execution_count": 2,
   "id": "a0b9ccaf",
   "metadata": {},
   "outputs": [],
   "source": [
    "def absurl(host, path):\n",
    "    return urljoin(host, path)\n",
    "\n",
    "def beautiful_soup(response):\n",
    "    return BeautifulSoup(response.text, 'html.parser')\n",
    "\n",
    "def url_request(url, headers):\n",
    "    response = requests.get(url, headers=headers, verify=False)\n",
    "    return response"
   ]
  },
  {
   "cell_type": "code",
   "execution_count": 3,
   "id": "68021475",
   "metadata": {},
   "outputs": [],
   "source": [
    "# 데이터 추출 함수\n",
    "\n",
    "def find_cctvNews_data(soup, idxno):\n",
    "    # cctvNews html 페이지에서 기사 링크, 제목, 내용 태그 찾아 저장\n",
    "    link_tag = soup.find('link', rel='canonical') or soup.find('link', rel='amphtml')\n",
    "    title_tag = soup.find('title')\n",
    "    p_tags = soup.find_all('p')\n",
    "\n",
    "    if link_tag and title_tag:\n",
    "        link = link_tag.get('href')\n",
    "        title = str(title_tag.text)\n",
    "        content = ' '.join([tag.text for tag in p_tags])\n",
    "\n",
    "        data = {\n",
    "            \"link\": absurl(\"https://www.cctvnews.co.kr\", link),\n",
    "            \"title\": title,\n",
    "            \"content\": content\n",
    "        }\n",
    "        return data\n",
    "    else:\n",
    "        # 링크나 제목 존재하지 않을 시 None 반환\n",
    "        print(f\"Invalid link or title for index {idxno}. Skipping...\")\n",
    "        return None\n",
    "\n",
    "def find_dailySecu_data(soup, idxno):\n",
    "    # dailySecu html 페이지에서 기사 링크, 제목, 내용 태그 찾아 저장\n",
    "    link_tag = soup.find('link', rel='canonical') or soup.find('link', rel='amphtml')\n",
    "    title_tag = soup.find('title')\n",
    "    p_tags = soup.find_all('p')\n",
    "\n",
    "    if link_tag and title_tag:\n",
    "        link = link_tag.get('href')\n",
    "        title = str(title_tag.text)\n",
    "        content = ' '.join([tag.text for tag in p_tags])\n",
    "\n",
    "        data = {\n",
    "            \"link\": absurl(\"https://www.dailysecu.com\", link),\n",
    "            \"title\": title,\n",
    "            \"content\": content\n",
    "        }\n",
    "        return data\n",
    "    else:\n",
    "        # 링크나 제목 존재하지 않을 시 None 반환\n",
    "        print(f\"Invalid link or title for index {idxno}. Skipping...\")\n",
    "        return None\n",
    "\n",
    "def find_boanNews_data(soup, idx):\n",
    "    # boanNews html 페이지에서 기사 링크, 제목, 내용 태그 찾아 저장\n",
    "    link_tag = soup.find('link', rel='canonical') or soup.find('link', rel='amphtml')\n",
    "    title_tag = soup.find('title')\n",
    "    div_content = soup.find('div', id='news_content')\n",
    "\n",
    "    # 한 글자 뒤 생기는 공백 처리\n",
    "    if link_tag and title_tag and div_content:\n",
    "        link = link_tag.get('href')\n",
    "        title = str(title_tag.text)\n",
    "        content = div_content.get_text(separator=' ', strip=True)\n",
    "        content = ' '.join(content.split())\n",
    "\n",
    "        data = {\n",
    "            \"link\": absurl(\"https://www.boannews.com\", link),\n",
    "            \"title\": title,\n",
    "            \"content\": content\n",
    "        }\n",
    "        return data\n",
    "    else:\n",
    "        # 링크나 제목 존재하지 않을 시 None 반환\n",
    "        print(f\"Invalid link, title, or content for index {idx}. Skipping...\")\n",
    "        return None"
   ]
  },
  {
   "cell_type": "code",
   "execution_count": 4,
   "id": "1c502c4f",
   "metadata": {},
   "outputs": [],
   "source": [
    "# 크롤링한 데이터를 데이터베이스에 저장\n",
    "def insert_data(conn, cursor, table_name, data):\n",
    "    if data:\n",
    "        placeholders = ', '.join(['?' for _ in range(len(data))])\n",
    "        columns = ', '.join(data.keys())\n",
    "        values = tuple([str(val) for val in data.values()])\n",
    "        sql = f\"INSERT INTO {table_name} ({columns}) VALUES ({placeholders})\"\n",
    "        cursor.execute(sql, values)\n",
    "        conn.commit()"
   ]
  },
  {
   "cell_type": "code",
   "execution_count": 5,
   "id": "7be2f857",
   "metadata": {},
   "outputs": [],
   "source": [
    "# news 테이블의 모든 레코드 삭제(테이블 초기화)\n",
    "def clear_table(conn, cursor, table_name):\n",
    "    # 테이블 비우기\n",
    "    sql = f\"DELETE FROM {table_name}\"\n",
    "    cursor.execute(sql)\n",
    "    conn.commit()"
   ]
  },
  {
   "cell_type": "code",
   "execution_count": 6,
   "id": "873c8639",
   "metadata": {},
   "outputs": [],
   "source": [
    "# 메인함수: 크롤링, 데이터베이스 저장\n",
    "def main():\n",
    "    # SQLite 데이터베이스 연결 생성\n",
    "    conn = sqlite3.connect('news.db')\n",
    "    cursor = conn.cursor()\n",
    "    cursor.execute(\"CREATE TABLE IF NOT EXISTS news (link TEXT, title TEXT, content TEXT)\")\n",
    "    \n",
    "    # 테이블 비우기\n",
    "    clear_table(conn, cursor, 'news')\n",
    "    \n",
    "    # 크롤링할 URL 정의\n",
    "    cctvNews_base_url = \"https://www.cctvnews.co.kr/news/articleView.html?idxno=\"\n",
    "    dailySecu_base_url = \"https://www.dailysecu.com/news/articleView.html?idxno=\"\n",
    "    boanNews_base_url = \"https://www.boannews.com/media/view.asp?idx=\"\n",
    "\n",
    "    # cctvNews 크롤링\n",
    "    for idxno in range(236274, 236264, -1):\n",
    "        cctvNews_url = f\"{cctvNews_base_url}{idxno}\"\n",
    "        headers = {\"User-Agent\": \"Mozilla/5.0 (Windows NT 10.0; Win64; x64) AppleWebKit/537.36 (KHTML, like Gecko) Chrome/119.0.0.0 Safari/537.36\"}\n",
    "        response = url_request(cctvNews_url, headers)\n",
    "        soup = beautiful_soup(response)\n",
    "        data = find_cctvNews_data(soup, idxno)\n",
    "        insert_data(conn, cursor, 'news', data)\n",
    "\n",
    "    # dailySecu 크롤링\n",
    "    for idxno in range(151095, 151085, -1):\n",
    "        dailySecu_url = f\"{dailySecu_base_url}{idxno}\"\n",
    "        headers = {\"User-Agent\": \"Mozilla/5.0 (Windows NT 10.0; Win64; x64) AppleWebKit/537.36 (KHTML, like Gecko) Chrome/119.0.0.0 Safari/537.36\"}\n",
    "        response = url_request(dailySecu_url, headers)\n",
    "        soup = beautiful_soup(response)\n",
    "        data = find_dailySecu_data(soup, idxno)\n",
    "        insert_data(conn, cursor, 'news', data)\n",
    "\n",
    "    # boanNews 크롤링\n",
    "    for idx in range(123585, 123575, -1):\n",
    "        boanNews_url = f\"{boanNews_base_url}{idx}\"\n",
    "        headers = {\"User-Agent\": \"Mozilla/5.0 (Windows NT 10.0; Win64; x64) AppleWebKit/537.36 (KHTML, like Gecko) Chrome/119.0.0.0 Safari/537.36\"}\n",
    "        response = url_request(boanNews_url, headers)\n",
    "        soup = beautiful_soup(response)\n",
    "        data = find_boanNews_data(soup, idx)\n",
    "        insert_data(conn, cursor, 'news', data)\n",
    "\n",
    "    conn.close()\n"
   ]
  },
  {
   "cell_type": "code",
   "execution_count": 7,
   "id": "f75114b2",
   "metadata": {
    "scrolled": false
   },
   "outputs": [
    {
     "name": "stderr",
     "output_type": "stream",
     "text": [
      "C:\\Users\\82109\\anaconda3\\lib\\site-packages\\urllib3\\connectionpool.py:1045: InsecureRequestWarning: Unverified HTTPS request is being made to host 'www.cctvnews.co.kr'. Adding certificate verification is strongly advised. See: https://urllib3.readthedocs.io/en/1.26.x/advanced-usage.html#ssl-warnings\n",
      "  warnings.warn(\n",
      "C:\\Users\\82109\\anaconda3\\lib\\site-packages\\urllib3\\connectionpool.py:1045: InsecureRequestWarning: Unverified HTTPS request is being made to host 'www.cctvnews.co.kr'. Adding certificate verification is strongly advised. See: https://urllib3.readthedocs.io/en/1.26.x/advanced-usage.html#ssl-warnings\n",
      "  warnings.warn(\n",
      "C:\\Users\\82109\\anaconda3\\lib\\site-packages\\urllib3\\connectionpool.py:1045: InsecureRequestWarning: Unverified HTTPS request is being made to host 'www.cctvnews.co.kr'. Adding certificate verification is strongly advised. See: https://urllib3.readthedocs.io/en/1.26.x/advanced-usage.html#ssl-warnings\n",
      "  warnings.warn(\n",
      "C:\\Users\\82109\\anaconda3\\lib\\site-packages\\urllib3\\connectionpool.py:1045: InsecureRequestWarning: Unverified HTTPS request is being made to host 'www.cctvnews.co.kr'. Adding certificate verification is strongly advised. See: https://urllib3.readthedocs.io/en/1.26.x/advanced-usage.html#ssl-warnings\n",
      "  warnings.warn(\n"
     ]
    },
    {
     "name": "stdout",
     "output_type": "stream",
     "text": [
      "Invalid link or title for index 236271. Skipping...\n"
     ]
    },
    {
     "name": "stderr",
     "output_type": "stream",
     "text": [
      "C:\\Users\\82109\\anaconda3\\lib\\site-packages\\urllib3\\connectionpool.py:1045: InsecureRequestWarning: Unverified HTTPS request is being made to host 'www.cctvnews.co.kr'. Adding certificate verification is strongly advised. See: https://urllib3.readthedocs.io/en/1.26.x/advanced-usage.html#ssl-warnings\n",
      "  warnings.warn(\n",
      "C:\\Users\\82109\\anaconda3\\lib\\site-packages\\urllib3\\connectionpool.py:1045: InsecureRequestWarning: Unverified HTTPS request is being made to host 'www.cctvnews.co.kr'. Adding certificate verification is strongly advised. See: https://urllib3.readthedocs.io/en/1.26.x/advanced-usage.html#ssl-warnings\n",
      "  warnings.warn(\n"
     ]
    },
    {
     "name": "stdout",
     "output_type": "stream",
     "text": [
      "Invalid link or title for index 236269. Skipping...\n"
     ]
    },
    {
     "name": "stderr",
     "output_type": "stream",
     "text": [
      "C:\\Users\\82109\\anaconda3\\lib\\site-packages\\urllib3\\connectionpool.py:1045: InsecureRequestWarning: Unverified HTTPS request is being made to host 'www.cctvnews.co.kr'. Adding certificate verification is strongly advised. See: https://urllib3.readthedocs.io/en/1.26.x/advanced-usage.html#ssl-warnings\n",
      "  warnings.warn(\n",
      "C:\\Users\\82109\\anaconda3\\lib\\site-packages\\urllib3\\connectionpool.py:1045: InsecureRequestWarning: Unverified HTTPS request is being made to host 'www.cctvnews.co.kr'. Adding certificate verification is strongly advised. See: https://urllib3.readthedocs.io/en/1.26.x/advanced-usage.html#ssl-warnings\n",
      "  warnings.warn(\n",
      "C:\\Users\\82109\\anaconda3\\lib\\site-packages\\urllib3\\connectionpool.py:1045: InsecureRequestWarning: Unverified HTTPS request is being made to host 'www.cctvnews.co.kr'. Adding certificate verification is strongly advised. See: https://urllib3.readthedocs.io/en/1.26.x/advanced-usage.html#ssl-warnings\n",
      "  warnings.warn(\n",
      "C:\\Users\\82109\\anaconda3\\lib\\site-packages\\urllib3\\connectionpool.py:1045: InsecureRequestWarning: Unverified HTTPS request is being made to host 'www.cctvnews.co.kr'. Adding certificate verification is strongly advised. See: https://urllib3.readthedocs.io/en/1.26.x/advanced-usage.html#ssl-warnings\n",
      "  warnings.warn(\n",
      "C:\\Users\\82109\\anaconda3\\lib\\site-packages\\urllib3\\connectionpool.py:1045: InsecureRequestWarning: Unverified HTTPS request is being made to host 'www.dailysecu.com'. Adding certificate verification is strongly advised. See: https://urllib3.readthedocs.io/en/1.26.x/advanced-usage.html#ssl-warnings\n",
      "  warnings.warn(\n",
      "C:\\Users\\82109\\anaconda3\\lib\\site-packages\\urllib3\\connectionpool.py:1045: InsecureRequestWarning: Unverified HTTPS request is being made to host 'www.dailysecu.com'. Adding certificate verification is strongly advised. See: https://urllib3.readthedocs.io/en/1.26.x/advanced-usage.html#ssl-warnings\n",
      "  warnings.warn(\n",
      "C:\\Users\\82109\\anaconda3\\lib\\site-packages\\urllib3\\connectionpool.py:1045: InsecureRequestWarning: Unverified HTTPS request is being made to host 'www.dailysecu.com'. Adding certificate verification is strongly advised. See: https://urllib3.readthedocs.io/en/1.26.x/advanced-usage.html#ssl-warnings\n",
      "  warnings.warn(\n",
      "C:\\Users\\82109\\anaconda3\\lib\\site-packages\\urllib3\\connectionpool.py:1045: InsecureRequestWarning: Unverified HTTPS request is being made to host 'www.dailysecu.com'. Adding certificate verification is strongly advised. See: https://urllib3.readthedocs.io/en/1.26.x/advanced-usage.html#ssl-warnings\n",
      "  warnings.warn(\n",
      "C:\\Users\\82109\\anaconda3\\lib\\site-packages\\urllib3\\connectionpool.py:1045: InsecureRequestWarning: Unverified HTTPS request is being made to host 'www.dailysecu.com'. Adding certificate verification is strongly advised. See: https://urllib3.readthedocs.io/en/1.26.x/advanced-usage.html#ssl-warnings\n",
      "  warnings.warn(\n",
      "C:\\Users\\82109\\anaconda3\\lib\\site-packages\\urllib3\\connectionpool.py:1045: InsecureRequestWarning: Unverified HTTPS request is being made to host 'www.dailysecu.com'. Adding certificate verification is strongly advised. See: https://urllib3.readthedocs.io/en/1.26.x/advanced-usage.html#ssl-warnings\n",
      "  warnings.warn(\n",
      "C:\\Users\\82109\\anaconda3\\lib\\site-packages\\urllib3\\connectionpool.py:1045: InsecureRequestWarning: Unverified HTTPS request is being made to host 'www.dailysecu.com'. Adding certificate verification is strongly advised. See: https://urllib3.readthedocs.io/en/1.26.x/advanced-usage.html#ssl-warnings\n",
      "  warnings.warn(\n",
      "C:\\Users\\82109\\anaconda3\\lib\\site-packages\\urllib3\\connectionpool.py:1045: InsecureRequestWarning: Unverified HTTPS request is being made to host 'www.dailysecu.com'. Adding certificate verification is strongly advised. See: https://urllib3.readthedocs.io/en/1.26.x/advanced-usage.html#ssl-warnings\n",
      "  warnings.warn(\n",
      "C:\\Users\\82109\\anaconda3\\lib\\site-packages\\urllib3\\connectionpool.py:1045: InsecureRequestWarning: Unverified HTTPS request is being made to host 'www.dailysecu.com'. Adding certificate verification is strongly advised. See: https://urllib3.readthedocs.io/en/1.26.x/advanced-usage.html#ssl-warnings\n",
      "  warnings.warn(\n",
      "C:\\Users\\82109\\anaconda3\\lib\\site-packages\\urllib3\\connectionpool.py:1045: InsecureRequestWarning: Unverified HTTPS request is being made to host 'www.dailysecu.com'. Adding certificate verification is strongly advised. See: https://urllib3.readthedocs.io/en/1.26.x/advanced-usage.html#ssl-warnings\n",
      "  warnings.warn(\n",
      "C:\\Users\\82109\\anaconda3\\lib\\site-packages\\urllib3\\connectionpool.py:1045: InsecureRequestWarning: Unverified HTTPS request is being made to host 'www.boannews.com'. Adding certificate verification is strongly advised. See: https://urllib3.readthedocs.io/en/1.26.x/advanced-usage.html#ssl-warnings\n",
      "  warnings.warn(\n",
      "C:\\Users\\82109\\anaconda3\\lib\\site-packages\\urllib3\\connectionpool.py:1045: InsecureRequestWarning: Unverified HTTPS request is being made to host 'www.boannews.com'. Adding certificate verification is strongly advised. See: https://urllib3.readthedocs.io/en/1.26.x/advanced-usage.html#ssl-warnings\n",
      "  warnings.warn(\n",
      "C:\\Users\\82109\\anaconda3\\lib\\site-packages\\urllib3\\connectionpool.py:1045: InsecureRequestWarning: Unverified HTTPS request is being made to host 'www.boannews.com'. Adding certificate verification is strongly advised. See: https://urllib3.readthedocs.io/en/1.26.x/advanced-usage.html#ssl-warnings\n",
      "  warnings.warn(\n",
      "C:\\Users\\82109\\anaconda3\\lib\\site-packages\\urllib3\\connectionpool.py:1045: InsecureRequestWarning: Unverified HTTPS request is being made to host 'www.boannews.com'. Adding certificate verification is strongly advised. See: https://urllib3.readthedocs.io/en/1.26.x/advanced-usage.html#ssl-warnings\n",
      "  warnings.warn(\n",
      "C:\\Users\\82109\\anaconda3\\lib\\site-packages\\urllib3\\connectionpool.py:1045: InsecureRequestWarning: Unverified HTTPS request is being made to host 'www.boannews.com'. Adding certificate verification is strongly advised. See: https://urllib3.readthedocs.io/en/1.26.x/advanced-usage.html#ssl-warnings\n",
      "  warnings.warn(\n",
      "C:\\Users\\82109\\anaconda3\\lib\\site-packages\\urllib3\\connectionpool.py:1045: InsecureRequestWarning: Unverified HTTPS request is being made to host 'www.boannews.com'. Adding certificate verification is strongly advised. See: https://urllib3.readthedocs.io/en/1.26.x/advanced-usage.html#ssl-warnings\n",
      "  warnings.warn(\n",
      "C:\\Users\\82109\\anaconda3\\lib\\site-packages\\urllib3\\connectionpool.py:1045: InsecureRequestWarning: Unverified HTTPS request is being made to host 'www.boannews.com'. Adding certificate verification is strongly advised. See: https://urllib3.readthedocs.io/en/1.26.x/advanced-usage.html#ssl-warnings\n",
      "  warnings.warn(\n",
      "C:\\Users\\82109\\anaconda3\\lib\\site-packages\\urllib3\\connectionpool.py:1045: InsecureRequestWarning: Unverified HTTPS request is being made to host 'www.boannews.com'. Adding certificate verification is strongly advised. See: https://urllib3.readthedocs.io/en/1.26.x/advanced-usage.html#ssl-warnings\n",
      "  warnings.warn(\n",
      "C:\\Users\\82109\\anaconda3\\lib\\site-packages\\urllib3\\connectionpool.py:1045: InsecureRequestWarning: Unverified HTTPS request is being made to host 'www.boannews.com'. Adding certificate verification is strongly advised. See: https://urllib3.readthedocs.io/en/1.26.x/advanced-usage.html#ssl-warnings\n",
      "  warnings.warn(\n",
      "C:\\Users\\82109\\anaconda3\\lib\\site-packages\\urllib3\\connectionpool.py:1045: InsecureRequestWarning: Unverified HTTPS request is being made to host 'www.boannews.com'. Adding certificate verification is strongly advised. See: https://urllib3.readthedocs.io/en/1.26.x/advanced-usage.html#ssl-warnings\n",
      "  warnings.warn(\n"
     ]
    }
   ],
   "source": [
    "if __name__ == \"__main__\":\n",
    "    main()"
   ]
  },
  {
   "cell_type": "code",
   "execution_count": null,
   "id": "125db033",
   "metadata": {},
   "outputs": [],
   "source": []
  }
 ],
 "metadata": {
  "kernelspec": {
   "display_name": "Python 3 (ipykernel)",
   "language": "python",
   "name": "python3"
  },
  "language_info": {
   "codemirror_mode": {
    "name": "ipython",
    "version": 3
   },
   "file_extension": ".py",
   "mimetype": "text/x-python",
   "name": "python",
   "nbconvert_exporter": "python",
   "pygments_lexer": "ipython3",
   "version": "3.9.13"
  }
 },
 "nbformat": 4,
 "nbformat_minor": 5
}
